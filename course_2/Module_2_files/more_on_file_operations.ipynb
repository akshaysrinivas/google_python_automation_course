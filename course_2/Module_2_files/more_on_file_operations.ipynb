{
 "metadata": {
  "language_info": {
   "codemirror_mode": {
    "name": "ipython",
    "version": 3
   },
   "file_extension": ".py",
   "mimetype": "text/x-python",
   "name": "python",
   "nbconvert_exporter": "python",
   "pygments_lexer": "ipython3",
   "version": "3.8.2-final"
  },
  "orig_nbformat": 2,
  "kernelspec": {
   "name": "Python 3.8.2 64-bit",
   "display_name": "Python 3.8.2 64-bit",
   "metadata": {
    "interpreter": {
     "hash": "31f2aee4e71d21fbe5cf8b01ff0e069b9275f58929596ceb00d14d90e3e16cd6"
    }
   }
  }
 },
 "nbformat": 4,
 "nbformat_minor": 2,
 "cells": [
  {
   "cell_type": "code",
   "execution_count": 11,
   "metadata": {},
   "outputs": [
    {
     "output_type": "execute_result",
     "data": {
      "text/plain": "'/home/akshaysrinivas'"
     },
     "metadata": {},
     "execution_count": 11
    }
   ],
   "source": [
    "import os\n",
    "os.getcwd()"
   ]
  },
  {
   "cell_type": "code",
   "execution_count": 12,
   "metadata": {},
   "outputs": [
    {
     "output_type": "execute_result",
     "data": {
      "text/plain": "['.python_history',\n '.landscape',\n '.sudo_as_admin_successful',\n 'python-training',\n '.cache',\n '.bash_history',\n 'qwikLABS-L2386-18892032.pem',\n '.wget-hsts',\n '.motd_shown',\n '.config',\n '.profile',\n '.pylint.d',\n '.ssh',\n '.bash_logout',\n '.viminfo',\n 'shell-scripting',\n '.bashrc',\n '.mozilla',\n '.local',\n '.vscode-server',\n '.ipython']"
     },
     "metadata": {},
     "execution_count": 12
    }
   ],
   "source": [
    "os.listdir('/home/akshaysrinivas')"
   ]
  },
  {
   "cell_type": "code",
   "execution_count": 45,
   "metadata": {},
   "outputs": [
    {
     "output_type": "error",
     "ename": "FileExistsError",
     "evalue": "[Errno 17] File exists: 'test'",
     "traceback": [
      "\u001b[0;31m---------------------------------------------------------------------------\u001b[0m",
      "\u001b[0;31mFileExistsError\u001b[0m                           Traceback (most recent call last)",
      "\u001b[0;32m<ipython-input-45-90ba2ceae59e>\u001b[0m in \u001b[0;36m<module>\u001b[0;34m\u001b[0m\n\u001b[0;32m----> 1\u001b[0;31m \u001b[0mos\u001b[0m\u001b[0;34m.\u001b[0m\u001b[0mmkdir\u001b[0m\u001b[0;34m(\u001b[0m\u001b[0;34m\"test\"\u001b[0m\u001b[0;34m)\u001b[0m\u001b[0;34m\u001b[0m\u001b[0;34m\u001b[0m\u001b[0m\n\u001b[0m",
      "\u001b[0;31mFileExistsError\u001b[0m: [Errno 17] File exists: 'test'"
     ]
    }
   ],
   "source": [
    "os.mkdir(\"test\")"
   ]
  },
  {
   "cell_type": "code",
   "execution_count": 5,
   "metadata": {},
   "outputs": [],
   "source": [
    "os.chdir(\"test\")"
   ]
  },
  {
   "cell_type": "code",
   "execution_count": 7,
   "metadata": {},
   "outputs": [],
   "source": [
    "os.chdir(\"..\")"
   ]
  },
  {
   "cell_type": "code",
   "execution_count": 10,
   "metadata": {},
   "outputs": [],
   "source": [
    "os.chdir(\"..\")"
   ]
  },
  {
   "cell_type": "code",
   "execution_count": 39,
   "metadata": {},
   "outputs": [],
   "source": [
    "def find_dir_or_file(directory):\n",
    "    dir_list = os.listdir(directory)\n",
    "    for file in dir_list:\n",
    "        fullname = os.path.join(directory, file)\n",
    "        if os.path.isdir(fullname):\n",
    "            print(\"{:>50} is a directory [*]\".format(fullname))\n",
    "        else:\n",
    "            print(\"{:>50} is a file\".format(fullname))"
   ]
  },
  {
   "cell_type": "code",
   "execution_count": 41,
   "metadata": {
    "tags": []
   },
   "outputs": [
    {
     "output_type": "stream",
     "name": "stdout",
     "text": "              /home/akshaysrinivas/.python_history is a file\n                   /home/akshaysrinivas/.landscape is a directory [*]\n    /home/akshaysrinivas/.sudo_as_admin_successful is a file\n              /home/akshaysrinivas/python-training is a directory [*]\n                       /home/akshaysrinivas/.cache is a directory [*]\n                /home/akshaysrinivas/.bash_history is a file\n  /home/akshaysrinivas/qwikLABS-L2386-18892032.pem is a file\n                   /home/akshaysrinivas/.wget-hsts is a file\n                  /home/akshaysrinivas/.motd_shown is a file\n                      /home/akshaysrinivas/.config is a directory [*]\n                     /home/akshaysrinivas/.profile is a file\n                    /home/akshaysrinivas/.pylint.d is a directory [*]\n                         /home/akshaysrinivas/.ssh is a directory [*]\n                 /home/akshaysrinivas/.bash_logout is a file\n                     /home/akshaysrinivas/.viminfo is a file\n              /home/akshaysrinivas/shell-scripting is a directory [*]\n                      /home/akshaysrinivas/.bashrc is a file\n                     /home/akshaysrinivas/.mozilla is a directory [*]\n                       /home/akshaysrinivas/.local is a directory [*]\n               /home/akshaysrinivas/.vscode-server is a directory [*]\n                     /home/akshaysrinivas/.ipython is a directory [*]\n"
    }
   ],
   "source": [
    "find_dir_or_file('/home/akshaysrinivas')"
   ]
  },
  {
   "cell_type": "code",
   "execution_count": 42,
   "metadata": {},
   "outputs": [
    {
     "output_type": "execute_result",
     "data": {
      "text/plain": "['__all__',\n '__builtins__',\n '__cached__',\n '__doc__',\n '__file__',\n '__loader__',\n '__name__',\n '__package__',\n '__spec__',\n '_get_sep',\n '_joinrealpath',\n '_varprog',\n '_varprogb',\n 'abspath',\n 'altsep',\n 'basename',\n 'commonpath',\n 'commonprefix',\n 'curdir',\n 'defpath',\n 'devnull',\n 'dirname',\n 'exists',\n 'expanduser',\n 'expandvars',\n 'extsep',\n 'genericpath',\n 'getatime',\n 'getctime',\n 'getmtime',\n 'getsize',\n 'isabs',\n 'isdir',\n 'isfile',\n 'islink',\n 'ismount',\n 'join',\n 'lexists',\n 'normcase',\n 'normpath',\n 'os',\n 'pardir',\n 'pathsep',\n 'realpath',\n 'relpath',\n 'samefile',\n 'sameopenfile',\n 'samestat',\n 'sep',\n 'split',\n 'splitdrive',\n 'splitext',\n 'stat',\n 'supports_unicode_filenames',\n 'sys']"
     },
     "metadata": {},
     "execution_count": 42
    }
   ],
   "source": [
    "dir(os.path)"
   ]
  },
  {
   "cell_type": "code",
   "execution_count": 43,
   "metadata": {
    "tags": []
   },
   "outputs": [
    {
     "output_type": "stream",
     "name": "stdout",
     "text": "Help on function isdir in module genericpath:\n\nisdir(s)\n    Return true if the pathname refers to an existing directory.\n\n"
    }
   ],
   "source": [
    "help(os.path.isdir)"
   ]
  },
  {
   "cell_type": "code",
   "execution_count": 3,
   "metadata": {},
   "outputs": [],
   "source": [
    "import csv\n",
    "fruit_color_list = [[\"Banana\", \"Yellow\"], [\"Apple\", \"Red\"], [\"Orange\", \"Orange\"], [\"Papaya\", \"Green\"]]\n",
    "with open(\"fruits.csv\", \"w\") as fruit_file:\n",
    "    file = csv.writer(fruit_file)\n",
    "    file.writerows(fruit_color_list)"
   ]
  },
  {
   "cell_type": "code",
   "execution_count": 6,
   "metadata": {},
   "outputs": [],
   "source": [
    "vechicle = [{\"name\": \"Car\", \"tyers\": 4, \"color\" : \"Random\"}, {\"name\": \"Car\", \"tyers\": 4, \"color\" : \"Random\"}, \n",
    "{\"name\": \"Car\", \"tyers\": 4, \"color\" : \"Random\"}, {\"name\": \"Car\", \"tyers\": 4, \"color\" : \"Random\"}, {\"name\": \"Car\", \"tyers\": 4, \"color\" : \"Random\"}]\n",
    "keys = [\"name\", \"tyers\", \"color\"]\n",
    "with open(\"vechicle_dict_csv\", \"w\") as vechicle_file:\n",
    "    file = csv.DictWriter(vechicle_file, fieldnames=keys)\n",
    "    file.writeheader()\n",
    "    file.writerows(vechicle)"
   ]
  },
  {
   "cell_type": "code",
   "execution_count": 23,
   "metadata": {
    "tags": []
   },
   "outputs": [
    {
     "output_type": "stream",
     "name": "stdout",
     "text": "{'name': 'Car', 'tyers': '4', 'color': 'Random'}\n{'name': 'Car', 'tyers': '4', 'color': 'Random'}\n{'name': 'Car', 'tyers': '4', 'color': 'Random'}\n{'name': 'Car', 'tyers': '4', 'color': 'Random'}\n{'name': 'Car', 'tyers': '4', 'color': 'Random'}\n"
    }
   ],
   "source": [
    "with open(\"vechicle_dict_csv\") as vech_dict:\n",
    "    file = csv.DictReader(vech_dict)\n",
    "    for row in file:\n",
    "        print(row)"
   ]
  },
  {
   "cell_type": "code",
   "execution_count": 18,
   "metadata": {},
   "outputs": [
    {
     "output_type": "execute_result",
     "data": {
      "text/plain": "True"
     },
     "metadata": {},
     "execution_count": 18
    }
   ],
   "source": [
    "import os\n",
    "os.path.exists(\"vechicle_dict_csv\")"
   ]
  },
  {
   "cell_type": "code",
   "execution_count": null,
   "metadata": {},
   "outputs": [],
   "source": []
  }
 ]
}
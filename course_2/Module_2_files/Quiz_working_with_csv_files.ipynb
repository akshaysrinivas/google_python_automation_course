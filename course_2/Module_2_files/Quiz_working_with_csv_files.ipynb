{
 "metadata": {
  "language_info": {
   "codemirror_mode": {
    "name": "ipython",
    "version": 3
   },
   "file_extension": ".py",
   "mimetype": "text/x-python",
   "name": "python",
   "nbconvert_exporter": "python",
   "pygments_lexer": "ipython3",
   "version": "3.8.2-final"
  },
  "orig_nbformat": 2,
  "kernelspec": {
   "name": "Python 3.8.2 64-bit",
   "display_name": "Python 3.8.2 64-bit",
   "metadata": {
    "interpreter": {
     "hash": "31f2aee4e71d21fbe5cf8b01ff0e069b9275f58929596ceb00d14d90e3e16cd6"
    }
   }
  }
 },
 "nbformat": 4,
 "nbformat_minor": 2,
 "cells": [
  {
   "cell_type": "code",
   "execution_count": 1,
   "metadata": {
    "tags": []
   },
   "outputs": [
    {
     "output_type": "stream",
     "name": "stdout",
     "text": "a pink carnation is annual\na yellow daffodil is perennial\na blue iris is perennial\na red poinsettia is perennial\na yellow sunflower is annual\n\n"
    }
   ],
   "source": [
    "import os\n",
    "import csv\n",
    "\n",
    "# Create a file with data in it\n",
    "def create_file(filename):\n",
    "  with open(filename, \"w\") as file:\n",
    "    file.write(\"name,color,type\\n\")\n",
    "    file.write(\"carnation,pink,annual\\n\")\n",
    "    file.write(\"daffodil,yellow,perennial\\n\")\n",
    "    file.write(\"iris,blue,perennial\\n\")\n",
    "    file.write(\"poinsettia,red,perennial\\n\")\n",
    "    file.write(\"sunflower,yellow,annual\\n\")\n",
    "\n",
    "# Read the file contents and format the information about each row\n",
    "def contents_of_file(filename):\n",
    "  return_string = \"\"\n",
    "\n",
    "  # Call the function to create the file \n",
    "  create_file(filename)\n",
    "\n",
    "  # Open the file\n",
    "  with open(filename, \"r\") as file_content:\n",
    "    # Read the rows of the file into a dictionary\n",
    "    detail_content = csv.DictReader(file_content)\n",
    "    # Process each item of the dictionary\n",
    "    for row in detail_content:\n",
    "      return_string += \"a {} {} is {}\\n\".format(row[\"color\"], row[\"name\"], row[\"type\"])\n",
    "  return return_string\n",
    "\n",
    "#Call the function\n",
    "print(contents_of_file(\"flowers.csv\"))"
   ]
  },
  {
   "cell_type": "code",
   "execution_count": 5,
   "metadata": {
    "tags": []
   },
   "outputs": [
    {
     "output_type": "stream",
     "name": "stdout",
     "text": "a carnation pink is annual\na daffodil yellow is perennial\na iris blue is perennial\na poinsettia red is perennial\na sunflower yellow is annual\n\n"
    }
   ],
   "source": [
    "import os\n",
    "import csv\n",
    "\n",
    "# Create a file with data in it\n",
    "def create_file(filename):\n",
    "  with open(filename, \"w\") as file:\n",
    "    file.write(\"name,color,type\\n\")\n",
    "    file.write(\"carnation,pink,annual\\n\")\n",
    "    file.write(\"daffodil,yellow,perennial\\n\")\n",
    "    file.write(\"iris,blue,perennial\\n\")\n",
    "    file.write(\"poinsettia,red,perennial\\n\")\n",
    "    file.write(\"sunflower,yellow,annual\\n\")\n",
    "\n",
    "# Read the file contents and format the information about each row\n",
    "def contents_of_file(filename):\n",
    "  return_string = \"\"\n",
    "\n",
    "  # Call the function to create the file \n",
    "  create_file(filename)\n",
    "\n",
    "  # Open the file\n",
    "  with open(filename) as file_content:\n",
    "    # Read the rows of the file\n",
    "    rows = csv.DictReader(file_content)\n",
    "    # Process each row\n",
    "    for row in rows:\n",
    "      name, color, type = row\n",
    "      # Format the return string for data rows only\n",
    "      return_string += \"a {} {} is {}\\n\".format(row[color], row[name], row[type])\n",
    "  \n",
    "  return return_string\n",
    "\n",
    "#Call the function\n",
    "print(contents_of_file(\"flowers.csv\"))"
   ]
  },
  {
   "cell_type": "code",
   "execution_count": null,
   "metadata": {},
   "outputs": [],
   "source": []
  }
 ]
}
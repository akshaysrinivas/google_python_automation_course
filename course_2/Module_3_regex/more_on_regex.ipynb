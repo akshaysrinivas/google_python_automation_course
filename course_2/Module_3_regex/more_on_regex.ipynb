{
 "metadata": {
  "language_info": {
   "codemirror_mode": {
    "name": "ipython",
    "version": 3
   },
   "file_extension": ".py",
   "mimetype": "text/x-python",
   "name": "python",
   "nbconvert_exporter": "python",
   "pygments_lexer": "ipython3",
   "version": "3.8.2-final"
  },
  "orig_nbformat": 2,
  "kernelspec": {
   "name": "Python 3.8.2 64-bit",
   "display_name": "Python 3.8.2 64-bit",
   "metadata": {
    "interpreter": {
     "hash": "31f2aee4e71d21fbe5cf8b01ff0e069b9275f58929596ceb00d14d90e3e16cd6"
    }
   }
  }
 },
 "nbformat": 4,
 "nbformat_minor": 2,
 "cells": [
  {
   "cell_type": "code",
   "execution_count": 39,
   "metadata": {
    "tags": []
   },
   "outputs": [
    {
     "output_type": "stream",
     "name": "stdout",
     "text": "[12345]: ERROR\n12345 (ERROR)\nNone\nNone\n[67890]: RUNNING\n67890 (RUNNING)\n"
    }
   ],
   "source": [
    "import re\n",
    "def extract_pid(log_line):\n",
    "    regex = r\"\\[(\\d+)\\].[ ]([A-Z]*)\"\n",
    "    result = re.search(regex, log_line)\n",
    "    if result is None:\n",
    "        return None\n",
    "    print(result[0])\n",
    "    #print(result)\n",
    "    return \"{} ({})\".format(result[1], result[2])\n",
    "\n",
    "print(extract_pid(\"July 31 07:51:48 mycomputer bad_process[12345]: ERROR Performing package upgrade\")) # 12345 (ERROR)\n",
    "print(extract_pid(\"99 elephants in a [cage]\")) # None\n",
    "print(extract_pid(\"A string that also has numbers [34567] but no uppercase message\")) # None\n",
    "print(extract_pid(\"July 31 08:08:08 mycomputer new_process[67890]: RUNNING Performing backup\")) # 67890 (RUNNING)\n"
   ]
  },
  {
   "cell_type": "code",
   "execution_count": 2,
   "metadata": {
    "tags": []
   },
   "outputs": [
    {
     "output_type": "stream",
     "name": "stdout",
     "text": "[&#39;This is &#39;, &#39; Just an &#39;, &#39; example &#39;, &#39; to split the &#39;, &#39; text&#39;]\n"
    }
   ],
   "source": [
    "import re\n",
    "print(re.split(r\"[.?!$]\", \"This is ! Just an . example $ to split the ! text\"))"
   ]
  },
  {
   "cell_type": "code",
   "execution_count": 13,
   "metadata": {
    "tags": []
   },
   "outputs": [
    {
     "output_type": "stream",
     "name": "stdout",
     "text": "hello! this is just an email test &lt;An email address&gt;\n"
    }
   ],
   "source": [
    "print(re.sub(r\"[\\w\\._-]*@[\\w\\._-]*\", \"<An email address>\",\"hello! this is just an email test akshay.srinivas@outlook.com\"))"
   ]
  },
  {
   "cell_type": "code",
   "execution_count": null,
   "metadata": {},
   "outputs": [],
   "source": []
  }
 ]
}
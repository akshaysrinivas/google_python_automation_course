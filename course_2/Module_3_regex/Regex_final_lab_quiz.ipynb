{
 "metadata": {
  "language_info": {
   "codemirror_mode": {
    "name": "ipython",
    "version": 3
   },
   "file_extension": ".py",
   "mimetype": "text/x-python",
   "name": "python",
   "nbconvert_exporter": "python",
   "pygments_lexer": "ipython3",
   "version": "3.8.2-final"
  },
  "orig_nbformat": 2,
  "kernelspec": {
   "name": "Python 3.8.2 64-bit",
   "display_name": "Python 3.8.2 64-bit",
   "metadata": {
    "interpreter": {
     "hash": "31f2aee4e71d21fbe5cf8b01ff0e069b9275f58929596ceb00d14d90e3e16cd6"
    }
   }
  }
 },
 "nbformat": 4,
 "nbformat_minor": 2,
 "cells": [
  {
   "cell_type": "code",
   "execution_count": 1,
   "metadata": {},
   "outputs": [
    {
     "output_type": "execute_result",
     "data": {
      "text/plain": "&#39; This is the final lab for the regex module &#39;"
     },
     "metadata": {},
     "execution_count": 1
    }
   ],
   "source": [
    "\"\"\" This is the final lab for the regex module \"\"\""
   ]
  },
  {
   "cell_type": "code",
   "execution_count": 7,
   "metadata": {
    "tags": []
   },
   "outputs": [
    {
     "output_type": "stream",
     "name": "stdout",
     "text": "[[&#39;Full Name&#39;, &#39; Email Address&#39;], [&#39;Blossom Gill&#39;, &#39; blossom@abc.edu&#39;], [&#39;Hayes Delgado&#39;, &#39; nonummy@utnisia.com&#39;], [&#39;Petra Jones&#39;, &#39; ac@abc.edu&#39;], [&#39;Oleg Noel&#39;, &#39; noel@liberomauris.ca&#39;], [&#39;Ahmed Miller&#39;, &#39; ahmed.miller@nequenonquam.co.uk&#39;], [&#39;Macaulay Douglas&#39;, &#39; mdouglas@abc.edu&#39;], [&#39;Aurora Grant&#39;, &#39; enim.non@abc.edu&#39;], [&#39;Madison Mcintosh&#39;, &#39; mcintosh@nisiaenean.net&#39;], [&#39;Montana Powell&#39;, &#39; montanap@semmagna.org&#39;], [&#39;Rogan Robinson&#39;, &#39; rr.robinson@abc.edu&#39;], [&#39;Simon Rivera&#39;, &#39; sri@abc.edu&#39;], [&#39;Benedict Pacheco&#39;, &#39; bpacheco@abc.edu&#39;], [&#39;Maisie Hendrix&#39;, &#39; mai.hendrix@abc.edu&#39;], [&#39;Xaviera Gould&#39;, &#39; xlg@utnisia.net&#39;], [&#39;Oren Rollins&#39;, &#39; oren@semmagna.com&#39;], [&#39;Flavia Santiago&#39;, &#39; flavia@utnisia.net&#39;], [&#39;Jackson Owens&#39;, &#39; jackowens@abc.edu&#39;], [&#39;Britanni Humphrey&#39;, &#39; britanni@ut.net&#39;], [&#39;Kirk Nixon&#39;, &#39; kirknixon@abc.edu&#39;], [&#39;Bree Campbell&#39;, &#39; breee@utnisia.net&#39;]]\n\n\n\n[&#39;blossom@abc.edu&#39;, &#39;nonummy@utnisia.com&#39;, &#39;ac@abc.edu&#39;, &#39;noel@liberomauris.ca&#39;, &#39;ahmed.miller@nequenonquam.co.uk&#39;, &#39;mdouglas@abc.edu&#39;, &#39;enim.non@abc.edu&#39;, &#39;mcintosh@nisiaenean.net&#39;, &#39;montanap@semmagna.org&#39;, &#39;rr.robinson@abc.edu&#39;, &#39;sri@abc.edu&#39;, &#39;bpacheco@abc.edu&#39;, &#39;mai.hendrix@abc.edu&#39;, &#39;xlg@utnisia.net&#39;, &#39;oren@semmagna.com&#39;, &#39;flavia@utnisia.net&#39;, &#39;jackowens@abc.edu&#39;, &#39;britanni@ut.net&#39;, &#39;kirknixon@abc.edu&#39;, &#39;breee@utnisia.net&#39;]\n"
    }
   ],
   "source": [
    "import csv\n",
    "csv_file_location = \"/home/akshaysrinivas/python-training/Module_3_regex/user_emails.csv\"\n",
    "report_file = \"/home/akshaysrinivas/python-training/Module_3_regex\" + \"/updated_user_emails.csv\" #/home/<username>/data\n",
    "user_email_list = []\n",
    "with open(csv_file_location, 'r') as f:\n",
    "    user_data_list = list(csv.reader(f))\n",
    "    user_email_list = [data[1].strip() for data in user_data_list[1:]]\n",
    "print(user_data_list)\n",
    "print(\"\\n\\n\")\n",
    "print(user_email_list)"
   ]
  },
  {
   "cell_type": "code",
   "execution_count": 8,
   "metadata": {
    "tags": []
   },
   "outputs": [
    {
     "output_type": "stream",
     "name": "stdout",
     "text": " Email Address\n1\n"
    }
   ],
   "source": [
    "email_key = ' ' + 'Email Address'\n",
    "email_index = user_data_list[0].index(email_key)\n",
    "print(email_key)\n",
    "print(email_index)"
   ]
  },
  {
   "cell_type": "code",
   "execution_count": 14,
   "metadata": {
    "tags": []
   },
   "outputs": [
    {
     "output_type": "stream",
     "name": "stdout",
     "text": "(&#39;John&#39;, &#39;Jenny&#39;)\n(&#39;Charles&#39;, &#39;Christy&#39;)\n(&#39;Mike&#39;, &#39;Monica&#39;)\n(&#39;Akshay&#39;, &#39;Vicky&#39;)\n(&#39;Akshay&#39;, &#39;Vicky&#39;)\n"
    }
   ],
   "source": [
    "a = (\"John\", \"Charles\", \"Mike\", \"Akshay\")\n",
    "b = (\"Jenny\", \"Christy\", \"Monica\", \"Vicky\")\n",
    "\n",
    "for x in zip(a, b):\n",
    "    print(x) \n",
    "print(x)"
   ]
  },
  {
   "cell_type": "code",
   "execution_count": null,
   "metadata": {},
   "outputs": [],
   "source": [
    "#!/usr/bin/env python3\n",
    "\n",
    "#Import libraries\n",
    "import  csv\n",
    "import  re\n",
    "\n",
    "def contains_domain(address, domain):\n",
    "  \"\"\"Returns True if the email address contains the given domain,\n",
    "    in the domain position, false if not.\"\"\"\n",
    "  domain_pattern = r\"[\\w\\.-]+@\"+domain+\"$\"\n",
    "  if re.match(domain_pattern, address):\n",
    "    return True\n",
    "  return False\n",
    "\n",
    "def replace_domain(address, old_domain, new_domain):\n",
    "  \"\"\"Replaces the old domain with the new domain in\n",
    "    the received address.\"\"\"\n",
    "  old_domain_pattern = r\"\"+old_domain+\"$\"\n",
    "  address = re.sub(old_domain_pattern, new_domain, address)\n",
    "  return address\n",
    "\n",
    "def main():\n",
    "  \"\"\"Processes the list of emails, replacing any instances of the\n",
    "    old domain with the new domain.\"\"\"\n",
    "  old_domain, new_domain = 'abc.edu', 'xyz.edu'\n",
    "  csv_file_location = \"/home/student-00-6fbd5a643cd9/data/user_emails.csv\"\n",
    "  report_file = \"/home/student-00-6fbd5a643cd9/data\" + \"/updated_user_emails.csv\"\n",
    "  user_email_list = []\n",
    "  old_domain_email_list = []\n",
    "  new_domain_email_list = []\n",
    "\n",
    "  with open(csv_file_location, 'r') as f:\n",
    "    user_data_list = list(csv.reader(f))\n",
    "    user_email_list = [data[1].strip() for data in user_data_list[1:]]\n",
    "    for email_address in user_email_list:\n",
    "      if contains_domain(email_address, old_domain):\n",
    "        old_domain_email_list.append(email_address)\n",
    "        replaced_email = replace_domain(email_address, old_domain, new_domain)\n",
    "        new_domain_email_list.append(replaced_email)\n",
    "\n",
    "    email_key = ' ' + 'Email Address'\n",
    "    email_index = user_data_list[0].index(email_key)\n",
    "\n",
    "    for user in user_data_list[1:]:\n",
    "      for old_domain, new_domain in zip(old_domain_email_list, new_domain_email_list):\n",
    "        if user[email_index] == ' '+ old_domain:\n",
    "          user[email_index] = ' ' + new_domain\n",
    "    f.close()\n",
    "\n",
    "  with open(report_file, 'w+') as output_file:\n",
    "    writer = csv.writer(output_file)\n",
    "    writer.writerows(user_data_list)\n",
    "    output_file.close()\n",
    "\n",
    "main()"
   ]
  }
 ]
}
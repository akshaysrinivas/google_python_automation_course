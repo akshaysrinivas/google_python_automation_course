{
 "metadata": {
  "language_info": {
   "codemirror_mode": {
    "name": "ipython",
    "version": 3
   },
   "file_extension": ".py",
   "mimetype": "text/x-python",
   "name": "python",
   "nbconvert_exporter": "python",
   "pygments_lexer": "ipython3",
   "version": "3.8.2-final"
  },
  "orig_nbformat": 2,
  "kernelspec": {
   "name": "Python 3.8.2 64-bit",
   "display_name": "Python 3.8.2 64-bit",
   "metadata": {
    "interpreter": {
     "hash": "31f2aee4e71d21fbe5cf8b01ff0e069b9275f58929596ceb00d14d90e3e16cd6"
    }
   }
  }
 },
 "nbformat": 4,
 "nbformat_minor": 2,
 "cells": [
  {
   "cell_type": "code",
   "execution_count": 1,
   "metadata": {
    "tags": []
   },
   "outputs": [
    {
     "output_type": "stream",
     "name": "stdout",
     "text": "Ready to rock !!\n"
    }
   ],
   "source": [
    "print(\"Ready to rock !!\")"
   ]
  },
  {
   "cell_type": "code",
   "execution_count": 1,
   "metadata": {
    "tags": []
   },
   "outputs": [
    {
     "output_type": "stream",
     "name": "stdout",
     "text": "&lt;re.Match object; span=(24, 25), match=&#39;9&#39;&gt;\n"
    }
   ],
   "source": [
    "import re\n",
    "print(re.search(r\"[0-9]$\", \"This is just a sample 009\"))"
   ]
  },
  {
   "cell_type": "code",
   "execution_count": 4,
   "metadata": {
    "tags": []
   },
   "outputs": [
    {
     "output_type": "stream",
     "name": "stdout",
     "text": "[&#39;T&#39;, &#39;sample&#39;, &#39;9&#39;]\n"
    }
   ],
   "source": [
    "print(re.findall(r\"^[A-Z]|s[a-z][a-z][a-z]le|[0-9]$\", \"This is Just a sample 009\"))"
   ]
  },
  {
   "cell_type": "code",
   "execution_count": 5,
   "metadata": {
    "tags": []
   },
   "outputs": [
    {
     "output_type": "stream",
     "name": "stdout",
     "text": "&lt;re.Match object; span=(0, 1), match=&#39;T&#39;&gt;\n"
    }
   ],
   "source": [
    "print(re.search(r\"[0-9]$|^[A-Z]\", \"This is Just a sample 009\"))"
   ]
  },
  {
   "cell_type": "code",
   "execution_count": 11,
   "metadata": {
    "tags": []
   },
   "outputs": [
    {
     "output_type": "stream",
     "name": "stdout",
     "text": "False\n"
    }
   ],
   "source": [
    "print(re.search(r\"a.e\", \"ajhsdnjksdfekndfdjskfdisdfjksdfkjsdosdjfdshfjkju\", re.IGNORECASE) != None)"
   ]
  },
  {
   "cell_type": "code",
   "execution_count": 5,
   "metadata": {
    "tags": []
   },
   "outputs": [
    {
     "output_type": "stream",
     "name": "stdout",
     "text": "&lt;re.Match object; span=(2, 8), match=&#39;azonia&#39;&gt;\n"
    }
   ],
   "source": [
    "print(re.search(r\"a.*a\", \"Amazonia\"))"
   ]
  },
  {
   "cell_type": "code",
   "execution_count": 28,
   "metadata": {
    "tags": []
   },
   "outputs": [
    {
     "output_type": "stream",
     "name": "stdout",
     "text": "&lt;re.Match object; span=(0, 8), match=&#39;rrrr2344&#39;&gt;\n"
    }
   ],
   "source": [
    "print(re.search(r\"r+[a-z]*[0-9]*\", \"rrrr2344\"))"
   ]
  },
  {
   "cell_type": "code",
   "execution_count": null,
   "metadata": {},
   "outputs": [],
   "source": []
  }
 ]
}
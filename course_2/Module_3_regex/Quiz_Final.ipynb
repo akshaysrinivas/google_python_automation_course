{
 "metadata": {
  "language_info": {
   "codemirror_mode": {
    "name": "ipython",
    "version": 3
   },
   "file_extension": ".py",
   "mimetype": "text/x-python",
   "name": "python",
   "nbconvert_exporter": "python",
   "pygments_lexer": "ipython3",
   "version": "3.8.2-final"
  },
  "orig_nbformat": 2,
  "kernelspec": {
   "name": "Python 3.8.2 64-bit",
   "display_name": "Python 3.8.2 64-bit",
   "metadata": {
    "interpreter": {
     "hash": "31f2aee4e71d21fbe5cf8b01ff0e069b9275f58929596ceb00d14d90e3e16cd6"
    }
   }
  }
 },
 "nbformat": 4,
 "nbformat_minor": 2,
 "cells": [
  {
   "cell_type": "code",
   "execution_count": 44,
   "metadata": {
    "tags": []
   },
   "outputs": [
    {
     "output_type": "stream",
     "name": "stdout",
     "text": "Sabrina Green,+1-802-867-5309,System Administrator\nEli Jones,+1-684-3481127,IT specialist\nMelody Daniels,+1-846-687-7436,Programmer\nCharlie Rivera,+1-698-746-3357,Web Developer\n"
    }
   ],
   "source": [
    "import re\n",
    "def transform_record(record):\n",
    "  new_record = re.sub(r\",([\\d-]*),\", \",{}{},\".format(\"+1-\", r\"\\1\"), record)\n",
    "  return new_record\n",
    "\n",
    "print(transform_record(\"Sabrina Green,802-867-5309,System Administrator\")) \n",
    "# Sabrina Green,+1-802-867-5309,System Administrator\n",
    "\n",
    "print(transform_record(\"Eli Jones,684-3481127,IT specialist\")) \n",
    "# Eli Jones,+1-684-3481127,IT specialist\n",
    "\n",
    "print(transform_record(\"Melody Daniels,846-687-7436,Programmer\")) \n",
    "# Melody Daniels,+1-846-687-7436,Programmer\n",
    "\n",
    "print(transform_record(\"Charlie Rivera,698-746-3357,Web Developer\")) \n",
    "# Charlie Rivera,+1-698-746-3357,Web Developer"
   ]
  },
  {
   "cell_type": "code",
   "execution_count": 65,
   "metadata": {
    "tags": []
   },
   "outputs": [
    {
     "output_type": "stream",
     "name": "stdout",
     "text": "[&#39;beautiful&#39;]\n[&#39;Obviously&#39;, &#39;queen&#39;, &#39;courageous&#39;, &#39;gracious&#39;]\n[&#39;rambunctious&#39;, &#39;quietly&#39;, &#39;delicious&#39;]\n[&#39;queue&#39;]\n[]\n"
    }
   ],
   "source": [
    "import re\n",
    "def multi_vowel_words(text):\n",
    "  pattern = r\"[A-Za-z]+[aeiou]{3,}[a-z]+\"\n",
    "  result = re.findall(pattern, text)\n",
    "  return result\n",
    "\n",
    "print(multi_vowel_words(\"Life is beautiful\")) \n",
    "# ['beautiful']\n",
    "\n",
    "print(multi_vowel_words(\"Obviously, the queen is courageous and gracious.\")) \n",
    "# ['Obviously', 'queen', 'courageous', 'gracious']\n",
    "\n",
    "print(multi_vowel_words(\"The rambunctious children had to sit quietly and await their delicious dinner.\")) \n",
    "# ['rambunctious', 'quietly', 'delicious']\n",
    "\n",
    "print(multi_vowel_words(\"The order of a data queue is First In First Out (FIFO)\")) \n",
    "# ['queue']\n",
    "\n",
    "print(multi_vowel_words(\"Hello world!\")) \n",
    "# []"
   ]
  },
  {
   "cell_type": "code",
   "execution_count": 68,
   "metadata": {
    "tags": []
   },
   "outputs": [
    {
     "output_type": "stream",
     "name": "stdout",
     "text": "// Start of program\n  number = 0   // Initialize the variable\n  number += 1   // Increment the variable\n  return(number)\n"
    }
   ],
   "source": [
    "import re\n",
    "def transform_comments(line_of_code):\n",
    "  result = re.sub(r\"(#+)\", \"//\", line_of_code)\n",
    "  return result\n",
    "\n",
    "print(transform_comments(\"### Start of program\")) \n",
    "# Should be \"// Start of program\"\n",
    "print(transform_comments(\"  number = 0   ## Initialize the variable\")) \n",
    "# Should be \"  number = 0   // Initialize the variable\"\n",
    "print(transform_comments(\"  number += 1   # Increment the variable\")) \n",
    "# Should be \"  number += 1   // Increment the variable\"\n",
    "print(transform_comments(\"  return(number)\")) \n",
    "# Should be \"  return(number)\""
   ]
  },
  {
   "cell_type": "code",
   "execution_count": 85,
   "metadata": {
    "tags": []
   },
   "outputs": [
    {
     "output_type": "stream",
     "name": "stdout",
     "text": "My number is (212) 345-9999.\nPlease call (888) 555-1234\n123-123-12345\nPhone number of Buckingham Palace is +44 303 123 7300\n"
    }
   ],
   "source": [
    "import re\n",
    "def convert_phone_number(phone):\n",
    "  result = re.sub(r\"([\\d]{3})-([\\d]{3}-[\\d]{4})\\b\", \"({}) {}\".format(r\"\\1\", r\"\\2\"), phone)\n",
    "  return result\n",
    "\n",
    "print(convert_phone_number(\"My number is 212-345-9999.\")) # My number is (212) 345-9999.\n",
    "print(convert_phone_number(\"Please call 888-555-1234\")) # Please call (888) 555-1234\n",
    "print(convert_phone_number(\"123-123-12345\")) # 123-123-12345\n",
    "print(convert_phone_number(\"Phone number of Buckingham Palace is +44 303 123 7300\")) # Phone number of Buckingham Palace is +44 303 123 7300"
   ]
  },
  {
   "cell_type": "code",
   "execution_count": null,
   "metadata": {},
   "outputs": [],
   "source": []
  }
 ]
}
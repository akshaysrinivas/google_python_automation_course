{
 "metadata": {
  "language_info": {
   "codemirror_mode": {
    "name": "ipython",
    "version": 3
   },
   "file_extension": ".py",
   "mimetype": "text/x-python",
   "name": "python",
   "nbconvert_exporter": "python",
   "pygments_lexer": "ipython3",
   "version": "3.8.2-final"
  },
  "orig_nbformat": 2,
  "kernelspec": {
   "name": "Python 3.8.2 64-bit",
   "display_name": "Python 3.8.2 64-bit",
   "metadata": {
    "interpreter": {
     "hash": "31f2aee4e71d21fbe5cf8b01ff0e069b9275f58929596ceb00d14d90e3e16cd6"
    }
   }
  }
 },
 "nbformat": 4,
 "nbformat_minor": 2,
 "cells": [
  {
   "cell_type": "code",
   "execution_count": null,
   "metadata": {},
   "outputs": [],
   "source": [
    "\"\"\" Module 4 for Process and command line \"\"\""
   ]
  },
  {
   "cell_type": "code",
   "execution_count": 24,
   "metadata": {
    "tags": []
   },
   "outputs": [
    {
     "output_type": "stream",
     "name": "stdout",
     "text": "PATH : S\n\nHOME : /home/akshaysrinivas\n\nUSER : akshaysrinivas\n"
    }
   ],
   "source": [
    "import os\n",
    "print(\"PATH : {}\\n\\nHOME : {}\\n\\nUSER : {}\".format(os.environ.get(\"AKSHAY\", \"S\"), os.environ.get(\"HOME\", \"\"), os.environ.get(\"USER\", \"\")))\n",
    "#Get method is used to avoid non-key ERROR. If the value associated with key didn't find in the dectinoary then null string is printed."
   ]
  },
  {
   "cell_type": "code",
   "execution_count": 25,
   "metadata": {
    "tags": []
   },
   "outputs": [
    {
     "output_type": "stream",
     "name": "stdout",
     "text": "[&#39;/home/akshaysrinivas/.local/lib/python3.8/site-packages/ipykernel_launcher.py&#39;, &#39;--ip=127.0.0.1&#39;, &#39;--stdin=9003&#39;, &#39;--control=9001&#39;, &#39;--hb=9000&#39;, &#39;--Session.signature_scheme=&quot;hmac-sha256&quot;&#39;, &#39;--Session.key=b&quot;5d910be1-de6b-4a4b-a55c-4fb8204091ae&quot;&#39;, &#39;--shell=9002&#39;, &#39;--transport=&quot;tcp&quot;&#39;, &#39;--iopub=9004&#39;, &#39;--f=/tmp/tmp-174CQzIOEMmk6z4.json&#39;]\n"
    }
   ],
   "source": [
    "import sys\n",
    "print(sys.argv)"
   ]
  },
  {
   "cell_type": "code",
   "execution_count": 16,
   "metadata": {
    "tags": []
   },
   "outputs": [
    {
     "output_type": "stream",
     "name": "stdout",
     "text": "0\n0\n0\n"
    }
   ],
   "source": [
    "import re\n",
    "import os\n",
    "import subprocess\n",
    "\n",
    "directory_list = os.listdir()\n",
    "pattern = r\".*\\.py$\"\n",
    "for file in directory_list:\n",
    "    if not os.path.isdir(file):\n",
    "        if re.match(pattern, file) is not None:\n",
    "            process_return = subprocess.run([\"chmod\", \"+x\", file])    \n",
    "            print(process_return.returncode)"
   ]
  },
  {
   "cell_type": "code",
   "execution_count": 6,
   "metadata": {
    "tags": []
   },
   "outputs": [
    {
     "output_type": "stream",
     "name": "stdout",
     "text": "Error code : 0\ngActual o/p from bash : [&#39;Akshay_Srinivas&#39;, &#39;command_input.py&#39;, &#39;create_file_with_argv.py&#39;, &#39;module_4_starting.ipynb&#39;, &#39;section_2.py&#39;]\n"
    }
   ],
   "source": [
    "import subprocess\n",
    "\n",
    "def execute_command(command):\n",
    "    command_split = command.split()\n",
    "    result = subprocess.run(command_split, capture_output=True)\n",
    "    return result\n",
    "\n",
    "command_user = input(\"Command to execute : \")\n",
    "result = execute_command(command_user)\n",
    "print(\"Error code : {}\\ngActual o/p from bash : {}\".format(result.returncode, result.stdout.decode().split()))"
   ]
  },
  {
   "cell_type": "code",
   "execution_count": 55,
   "metadata": {
    "tags": []
   },
   "outputs": [
    {
     "output_type": "stream",
     "name": "stdout",
     "text": "Jul 6 14:01:23 pid:29440\nJul 6 14:02:08 pid:29187\nJul 6 14:02:09 pid:29187\nJul 6 14:03:01 pid:29440\nJul 6 14:03:40 pid:29807\nJul 6 14:04:01 pid:29440\nJul 6 14:05:01 pid:29440\n"
    }
   ],
   "source": [
    "import re\n",
    "def show_time_of_pid(line):\n",
    "  pattern = r\"(^[A-Z].*[0-9])[\\s]|\\[([\\d]*)\\]\"\n",
    "  #pattern = r\"\"\n",
    "  result = re.findall(pattern, line)\n",
    "  return \"{} pid:{}\".format(result[0][0], result[1][1])\n",
    "\n",
    "print(show_time_of_pid(\"Jul 6 14:01:23 computer.name CRON[29440]: USER (good_user)\")) # Jul 6 14:01:23 pid:29440\n",
    "\n",
    "print(show_time_of_pid(\"Jul 6 14:02:08 computer.name jam_tag=psim[29187]: (UUID:006)\")) # Jul 6 14:02:08 pid:29187\n",
    "\n",
    "print(show_time_of_pid(\"Jul 6 14:02:09 computer.name jam_tag=psim[29187]: (UUID:007)\")) # Jul 6 14:02:09 pid:29187\n",
    "\n",
    "print(show_time_of_pid(\"Jul 6 14:03:01 computer.name CRON[29440]: USER (naughty_user)\")) # Jul 6 14:03:01 pid:29440\n",
    "\n",
    "print(show_time_of_pid(\"Jul 6 14:03:40 computer.name cacheclient[29807]: start syncing from \\\"0xDEADBEEF\\\"\")) # Jul 6 14:03:40 pid:29807\n",
    "\n",
    "print(show_time_of_pid(\"Jul 6 14:04:01 computer.name CRON[29440]: USER (naughty_user)\")) # Jul 6 14:04:01 pid:29440\n",
    "\n",
    "print(show_time_of_pid(\"Jul 6 14:05:01 computer.name CRON[29440]: USER (naughty_user)\")) # Jul 6 14:05:01 pid:29440"
   ]
  },
  {
   "cell_type": "code",
   "execution_count": null,
   "metadata": {},
   "outputs": [],
   "source": []
  }
 ]
}